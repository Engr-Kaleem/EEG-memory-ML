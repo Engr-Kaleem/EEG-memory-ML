{
 "cells": [
  {
   "cell_type": "code",
   "execution_count": 3,
   "metadata": {},
   "outputs": [
    {
     "ename": "ModuleNotFoundError",
     "evalue": "No module named 'mne'",
     "output_type": "error",
     "traceback": [
      "\u001b[1;31m---------------------------------------------------------------------------\u001b[0m",
      "\u001b[1;31mModuleNotFoundError\u001b[0m                       Traceback (most recent call last)",
      "Cell \u001b[1;32mIn [3], line 3\u001b[0m\n\u001b[0;32m      1\u001b[0m \u001b[39mimport\u001b[39;00m \u001b[39mnumpy\u001b[39;00m \u001b[39mas\u001b[39;00m \u001b[39mnp\u001b[39;00m\n\u001b[0;32m      2\u001b[0m \u001b[39mimport\u001b[39;00m \u001b[39mmatplotlib\u001b[39;00m\u001b[39m.\u001b[39;00m\u001b[39mpyplot\u001b[39;00m \u001b[39mas\u001b[39;00m \u001b[39mplt\u001b[39;00m\n\u001b[1;32m----> 3\u001b[0m \u001b[39mimport\u001b[39;00m \u001b[39mmne\u001b[39;00m \n",
      "\u001b[1;31mModuleNotFoundError\u001b[0m: No module named 'mne'"
     ]
    }
   ],
   "source": [
    "import numpy as np\n",
    "import matplotlib.pyplot as plt\n",
    "import mne \n"
   ]
  },
  {
   "cell_type": "code",
   "execution_count": 4,
   "metadata": {},
   "outputs": [
    {
     "ename": "NameError",
     "evalue": "name 'mne' is not defined",
     "output_type": "error",
     "traceback": [
      "\u001b[1;31m---------------------------------------------------------------------------\u001b[0m",
      "\u001b[1;31mNameError\u001b[0m                                 Traceback (most recent call last)",
      "Cell \u001b[1;32mIn [4], line 1\u001b[0m\n\u001b[1;32m----> 1\u001b[0m epochs \u001b[39m=\u001b[39m mne\u001b[39m.\u001b[39mread_epochs(\u001b[39m'\u001b[39m\u001b[39mclean_s1_erp_epochs.fif\u001b[39m\u001b[39m'\u001b[39m, preload\u001b[39m=\u001b[39m\u001b[39mFalse\u001b[39;00m)\n\u001b[0;32m      2\u001b[0m \u001b[39mprint\u001b[39m(epochs)\n\u001b[0;32m      4\u001b[0m event_dict \u001b[39m=\u001b[39m {\u001b[39m'\u001b[39m\u001b[39mEV_ENC\u001b[39m\u001b[39m'\u001b[39m: \u001b[39m1\u001b[39m ,\u001b[39m'\u001b[39m\u001b[39mEV_NO_ENC\u001b[39m\u001b[39m'\u001b[39m: \u001b[39m2\u001b[39m}\n",
      "\u001b[1;31mNameError\u001b[0m: name 'mne' is not defined"
     ]
    }
   ],
   "source": [
    "epochs = mne.read_epochs('clean_s1_erp_epochs.fif', preload=False)\n",
    "print(epochs)\n",
    "\n",
    "event_dict = {'EV_ENC': 1 ,'EV_NO_ENC': 2}\n",
    "epochs.event_id = event_dict;\n"
   ]
  },
  {
   "cell_type": "code",
   "execution_count": 3,
   "metadata": {},
   "outputs": [
    {
     "ename": "NameError",
     "evalue": "name 'epochs' is not defined",
     "output_type": "error",
     "traceback": [
      "\u001b[1;31m---------------------------------------------------------------------------\u001b[0m",
      "\u001b[1;31mNameError\u001b[0m                                 Traceback (most recent call last)",
      "Cell \u001b[1;32mIn [3], line 1\u001b[0m\n\u001b[1;32m----> 1\u001b[0m epochs\u001b[39m.\u001b[39mplot(n_epochs\u001b[39m=\u001b[39m\u001b[39m10\u001b[39m);\n",
      "\u001b[1;31mNameError\u001b[0m: name 'epochs' is not defined"
     ]
    }
   ],
   "source": [
    "\n",
    "epochs.plot(n_epochs=10);"
   ]
  },
  {
   "cell_type": "code",
   "execution_count": 2,
   "metadata": {},
   "outputs": [
    {
     "ename": "NameError",
     "evalue": "name 'epochs' is not defined",
     "output_type": "error",
     "traceback": [
      "\u001b[1;31m---------------------------------------------------------------------------\u001b[0m",
      "\u001b[1;31mNameError\u001b[0m                                 Traceback (most recent call last)",
      "Cell \u001b[1;32mIn [2], line 1\u001b[0m\n\u001b[1;32m----> 1\u001b[0m array\u001b[39m=\u001b[39m(epochs[\u001b[39m3\u001b[39m])\u001b[39m.\u001b[39mget_data()\n\u001b[0;32m      2\u001b[0m \u001b[39mprint\u001b[39m(array\u001b[39m.\u001b[39mshape)\n",
      "\u001b[1;31mNameError\u001b[0m: name 'epochs' is not defined"
     ]
    }
   ],
   "source": [
    "array=(epochs[3]).get_data()\n",
    "print(array.shape)"
   ]
  },
  {
   "cell_type": "code",
   "execution_count": 8,
   "metadata": {},
   "outputs": [
    {
     "ename": "TypeError",
     "evalue": "object of type 'NoneType' has no len()",
     "output_type": "error",
     "traceback": [
      "\u001b[1;31m---------------------------------------------------------------------------\u001b[0m",
      "\u001b[1;31mTypeError\u001b[0m                                 Traceback (most recent call last)",
      "Cell \u001b[1;32mIn [8], line 3\u001b[0m\n\u001b[0;32m      1\u001b[0m data \u001b[39m=\u001b[39m epochs\u001b[39m.\u001b[39m_data\n\u001b[1;32m----> 3\u001b[0m n_events \u001b[39m=\u001b[39m \u001b[39mlen\u001b[39;49m(data) \u001b[39m# or len(epochs.events)\u001b[39;00m\n\u001b[0;32m      4\u001b[0m \u001b[39mprint\u001b[39m(\u001b[39m\"\u001b[39m\u001b[39mNumber of events: \u001b[39m\u001b[39m\"\u001b[39m \u001b[39m+\u001b[39m \u001b[39mstr\u001b[39m(n_events)) \n\u001b[0;32m      6\u001b[0m n_channels \u001b[39m=\u001b[39m \u001b[39mlen\u001b[39m(data[\u001b[39m0\u001b[39m,:]) \u001b[39m# or len(epochs.ch_names)\u001b[39;00m\n",
      "\u001b[1;31mTypeError\u001b[0m: object of type 'NoneType' has no len()"
     ]
    }
   ],
   "source": [
    "data = epochs._data\n",
    "\n",
    "n_events = len(data) # or len(epochs.events)\n",
    "print(\"Number of events: \" + str(n_events)) \n",
    "\n",
    "n_channels = len(data[0,:]) # or len(epochs.ch_names)\n",
    "print(\"Number of channels: \" + str(n_channels))\n",
    "\n",
    "n_times = len(data[0,0,:]) # or len(epochs.times)\n",
    "print(\"Number of time instances: \" + str(n_times))"
   ]
  }
 ],
 "metadata": {
  "kernelspec": {
   "display_name": "Python 3.10.7 64-bit",
   "language": "python",
   "name": "python3"
  },
  "language_info": {
   "codemirror_mode": {
    "name": "ipython",
    "version": 3
   },
   "file_extension": ".py",
   "mimetype": "text/x-python",
   "name": "python",
   "nbconvert_exporter": "python",
   "pygments_lexer": "ipython3",
   "version": "3.10.7"
  },
  "orig_nbformat": 4,
  "vscode": {
   "interpreter": {
    "hash": "26de051ba29f2982a8de78e945f0abaf191376122a1563185a90213a26c5da77"
   }
  }
 },
 "nbformat": 4,
 "nbformat_minor": 2
}
